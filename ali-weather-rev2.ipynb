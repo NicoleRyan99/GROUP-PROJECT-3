{
 "cells": [
  {
   "cell_type": "code",
   "execution_count": 1,
   "id": "57bed656-8c94-40a6-aba8-6a77b9dde3e5",
   "metadata": {},
   "outputs": [
    {
     "ename": "ModuleNotFoundError",
     "evalue": "No module named 'api_keys'",
     "output_type": "error",
     "traceback": [
      "\u001b[1;31m---------------------------------------------------------------------------\u001b[0m",
      "\u001b[1;31mModuleNotFoundError\u001b[0m                       Traceback (most recent call last)",
      "\u001b[1;32m~\\AppData\\Local\\Temp/ipykernel_34872/785338330.py\u001b[0m in \u001b[0;36m<module>\u001b[1;34m\u001b[0m\n\u001b[0;32m     14\u001b[0m \u001b[1;33m\u001b[0m\u001b[0m\n\u001b[0;32m     15\u001b[0m \u001b[1;31m# Import API key\u001b[0m\u001b[1;33m\u001b[0m\u001b[1;33m\u001b[0m\u001b[0m\n\u001b[1;32m---> 16\u001b[1;33m \u001b[1;32mfrom\u001b[0m \u001b[0mapi_keys\u001b[0m \u001b[1;32mimport\u001b[0m \u001b[0mg_key\u001b[0m\u001b[1;33m\u001b[0m\u001b[1;33m\u001b[0m\u001b[0m\n\u001b[0m\u001b[0;32m     17\u001b[0m \u001b[1;33m\u001b[0m\u001b[0m\n\u001b[0;32m     18\u001b[0m \u001b[1;31m# Access maps with unique API key\u001b[0m\u001b[1;33m\u001b[0m\u001b[1;33m\u001b[0m\u001b[0m\n",
      "\u001b[1;31mModuleNotFoundError\u001b[0m: No module named 'api_keys'"
     ]
    }
   ],
   "source": [
    "# Dependencies and Setup\n",
    "import matplotlib.pyplot as plt\n",
    "import pandas as pd\n",
    "import numpy as np\n",
    "import requests\n",
    "import time\n",
    "import gmaps\n",
    "import os\n",
    "\n",
    "\n",
    "import json\n",
    "import requests\n",
    "\n",
    "\n",
    "# Import API key\n",
    "from api_keys import g_key\n",
    "\n",
    "# Access maps with unique API key\n",
    "gmaps.configure(api_key=g_key)\n",
    "\n",
    "\n",
    "from scipy.stats import linregress\n",
    "#pip install citipy\n",
    "# Import API key   \n",
    "\n",
    "from api_keys import weather_api_key\n",
    "\n",
    "# Incorporated citipy to determine city based on latitude and longitude\n",
    "from citipy import citipy\n",
    "\n",
    "# Output File (CSV)\n",
    "#output_data_file = \"output_data/cities.csv\"\n",
    "\n"
   ]
  },
  {
   "cell_type": "code",
   "execution_count": null,
   "id": "104c5992-c03d-42ff-9308-a3fdcb12c89b",
   "metadata": {},
   "outputs": [],
   "source": [
    "cityinfo = pd.read_csv(\"C:/Users/alisa/GIT/PROJECT-3/data/uscities-airport-lat-lng.csv\")\n",
    "cityinfo.head(10)"
   ]
  },
  {
   "cell_type": "code",
   "execution_count": null,
   "id": "73179794-ac51-46ef-8647-2cedb9246732",
   "metadata": {},
   "outputs": [],
   "source": [
    "cities = cityinfo['city']\n"
   ]
  },
  {
   "cell_type": "code",
   "execution_count": null,
   "id": "c688833a-04e0-4a41-b5cf-4724cba110ec",
   "metadata": {},
   "outputs": [],
   "source": [
    "population = cityinfo['population']"
   ]
  },
  {
   "cell_type": "code",
   "execution_count": null,
   "id": "e0cf9a74-ed02-4132-ba15-24fd260365ab",
   "metadata": {},
   "outputs": [],
   "source": [
    "cities"
   ]
  },
  {
   "cell_type": "code",
   "execution_count": null,
   "id": "870c6478-6a6f-48a1-b21e-f37629ee73c4",
   "metadata": {},
   "outputs": [],
   "source": [
    "population"
   ]
  },
  {
   "cell_type": "code",
   "execution_count": null,
   "id": "839f766b-df93-4d59-af2c-e2db642428a2",
   "metadata": {},
   "outputs": [],
   "source": [
    "len(cities)"
   ]
  },
  {
   "cell_type": "code",
   "execution_count": null,
   "id": "0571c0f7-94a0-492d-adaa-525f13ead441",
   "metadata": {},
   "outputs": [],
   "source": [
    "#  https://api.openweathermap.org/data/2.5/weather?q={city name}&appid={API key}\n",
    "\n",
    "#url = \"http://api.openweathermap.org/data/2.5/weather?\"\n",
    "url = \"https://api.openweathermap.org/data/2.5/weather?\"\n",
    "units = \"imperial\"\n",
    "\n",
    "#for city in cities:\n",
    "# Build query URL\n",
    "query_url = url + \"appid=\" + weather_api_key + \"&units=\" + units +  \"&q=\" + cities[0]\n",
    "\n",
    "#query_url\n",
    "\n",
    "# Get weather data\n",
    "weather_response = requests.get(query_url)\n",
    "weather_json = weather_response.json()\n",
    "\n",
    "# Get the temperature from the response\n",
    "#print(f\"The weather API responded with: {weather_json}.\")\n",
    "\n",
    "y = json.dumps(weather_json, indent=4, separators=(\". \", \" = \"))\n",
    "print(y)"
   ]
  },
  {
   "cell_type": "code",
   "execution_count": null,
   "id": "3f0c04ad-e9af-4827-a899-17a7a348f5a4",
   "metadata": {},
   "outputs": [],
   "source": [
    "url = \"http://api.openweathermap.org/data/2.5/weather?\"\n",
    "units = \"imperial\"\n",
    "\n",
    "#for city in cities:\n",
    "# Build query URL\n",
    "query_url = url + \"appid=\" + weather_api_key + \"&units=\" + units +  \"&q=\" \n",
    "\n",
    "\n",
    "city_name = []\n",
    "lat = []\n",
    "lng = []\n",
    "max_temp = []\n",
    "humidity = []\n",
    "cloudiness = []\n",
    "wind_speed = []\n",
    "country = []\n",
    "date = []\n",
    "\n",
    "#set a counter\n",
    "index_counter = 0\n",
    "set_counter = 1\n",
    "\n",
    "\n",
    "print(\"start Data Retrieval\")\n",
    "print(\"-\"*10)\n",
    "\n",
    "for index, city in enumerate (cities):\n",
    "    \n",
    "        response = requests.get(query_url + city).json()\n",
    "        try:\n",
    "            city_name.append(response['name'])\n",
    "            lat.append(response['coord']['lat'])\n",
    "            lng.append(response['coord']['lon'])\n",
    "            max_temp.append(response['main']['temp_max'])\n",
    "            humidity.append(response['main']['humidity'])\n",
    "            cloudiness.append(response['clouds']['all'])\n",
    "            wind_speed.append(response['wind']['speed'])\n",
    "            country.append(response['sys']['country'])\n",
    "            date.append(response['dt'])\n",
    "           \n",
    "            \n",
    "            if index_counter > 49:\n",
    "                index_counter = 0\n",
    "                set_counter = set_counter + 1\n",
    "    \n",
    "            else:\n",
    "                index_counter = index_counter + 1\n",
    "            \n",
    "                print(f\"Processing Record {index_counter} of Set {set_counter} : {city}\") \n",
    "  \n",
    "        except(KeyError, IndexError):\n",
    "            print(\"City not found...\")\n",
    "\n",
    "print(\"-\"*10)\n",
    "print(\"Data Retrieval Complete\")\n",
    "print(\"-\"*10)"
   ]
  },
  {
   "cell_type": "code",
   "execution_count": null,
   "id": "52a0d185-936f-43e8-8baa-2576c1569136",
   "metadata": {},
   "outputs": [],
   "source": [
    "city_weather_1 = pd.DataFrame({'city': city_name,\n",
    "                            \n",
    "                             'Max Temp': max_temp,\n",
    "                             'Humidity': humidity, \n",
    "                             'Cloudiness': cloudiness,\n",
    "                             'Wind Speed': wind_speed,\n",
    "                             'Country': country,\n",
    "                             'Date': date\n",
    "                             \n",
    "                            })\n",
    "city_weather_1.head()"
   ]
  },
  {
   "cell_type": "code",
   "execution_count": null,
   "id": "758e2bb4-3bb3-4a18-94f1-2662cd7db187",
   "metadata": {},
   "outputs": [],
   "source": [
    "city_weather_1['Date'] = pd.to_datetime(city_weather_1['Date'], unit='s')\n",
    "city_weather_1['Date'] = city_weather_1['Date'].dt.strftime('%Y-%m-%d')"
   ]
  },
  {
   "cell_type": "code",
   "execution_count": null,
   "id": "63e6124c-3a5f-45ee-b66d-305236441d7e",
   "metadata": {},
   "outputs": [],
   "source": [
    "city_weather_1"
   ]
  },
  {
   "cell_type": "code",
   "execution_count": null,
   "id": "d7b9093b-bb58-434f-b2eb-18a8942fc1bb",
   "metadata": {},
   "outputs": [],
   "source": [
    "\n",
    "city_weather_1.drop_duplicates(subset=['city'])"
   ]
  },
  {
   "cell_type": "code",
   "execution_count": null,
   "id": "5f491462-a565-4440-a96e-3d5b69cf32a3",
   "metadata": {},
   "outputs": [],
   "source": [
    "city_weather_1.to_csv(\"data/cities.csv\")"
   ]
  },
  {
   "cell_type": "code",
   "execution_count": null,
   "id": "004cff91-4e4b-408e-8777-a450b38ae465",
   "metadata": {},
   "outputs": [],
   "source": [
    "\n",
    "city_weather = pd.merge(cityinfo, city_weather_1, how=\"left\", on=[\"city\", \"city\"])"
   ]
  },
  {
   "cell_type": "code",
   "execution_count": null,
   "id": "53407976-92f4-4cca-a51c-ef8a18749b68",
   "metadata": {},
   "outputs": [],
   "source": [
    "city_weather"
   ]
  },
  {
   "cell_type": "code",
   "execution_count": null,
   "id": "0975e7b8-dcd7-473b-91ff-f686f497c92f",
   "metadata": {},
   "outputs": [],
   "source": [
    "city_weather = city_weather.drop_duplicates(subset=['city'])"
   ]
  },
  {
   "cell_type": "code",
   "execution_count": null,
   "id": "5820e45c-e549-4e55-b47e-345b022497e0",
   "metadata": {},
   "outputs": [],
   "source": [
    "city_weather\n"
   ]
  },
  {
   "cell_type": "code",
   "execution_count": null,
   "id": "737f8269-2d13-4be8-a6a8-ec30e2786e5b",
   "metadata": {},
   "outputs": [],
   "source": [
    "city_weather.to_csv(\"Clean_data/city_weather.csv\")"
   ]
  },
  {
   "cell_type": "code",
   "execution_count": null,
   "id": "82cf52c7-62c2-49a2-b9c2-cbbd23f4e7bc",
   "metadata": {},
   "outputs": [],
   "source": [
    "gmaps.configure(api_key=g_key)\n",
    "locations = city_weather[[\"lat\", \"lng\"]]\n",
    "humidity = city_weather[\"Humidity\"]\n",
    "locations"
   ]
  },
  {
   "cell_type": "code",
   "execution_count": null,
   "id": "559a3d84-e244-4f73-9c5b-8f1830f8b71b",
   "metadata": {},
   "outputs": [],
   "source": [
    "locations.dropna()"
   ]
  },
  {
   "cell_type": "code",
   "execution_count": null,
   "id": "85ca07a5-831e-470b-9410-5184a55e75ab",
   "metadata": {},
   "outputs": [],
   "source": [
    "humidity"
   ]
  },
  {
   "cell_type": "code",
   "execution_count": null,
   "id": "88caa664-023a-4f2b-9aa6-63e84122ea75",
   "metadata": {},
   "outputs": [],
   "source": [
    "fit_weather_data = city_weather.loc[(city_weather['Wind Speed']<= 20) & (city_weather['Cloudiness'] == 0) & \n",
    "                                    (city_weather['Max Temp']<=90) & (city_weather['Max Temp'] >= 70)]\n",
    "fit_weather_data.dropna()\n",
    "fit_weather_data.head()"
   ]
  },
  {
   "cell_type": "code",
   "execution_count": null,
   "id": "b9b81d9d-535f-4c3d-8182-fd771ef7d715",
   "metadata": {},
   "outputs": [],
   "source": [
    "# Plot Heatmap\n",
    "fig = gmaps.figure(center=(46.0, -5.0), zoom_level=2)\n",
    "max_intensity = np.max(humidity)\n",
    "\n",
    "# Create heat layer\n",
    "heat_layer = gmaps.heatmap_layer(locations, weights = humidity, dissipating=False, max_intensity=100, point_radius=3)\n",
    "\n",
    "# Add layer\n",
    "fig.add_layer(heat_layer)\n",
    "\n",
    "# Display figure\n",
    "fig"
   ]
  },
  {
   "cell_type": "code",
   "execution_count": null,
   "id": "fa811ca3-3cdc-4d16-bba5-3fa83b8b776f",
   "metadata": {},
   "outputs": [],
   "source": [
    "hotel_df = fit_weather_data.loc[:,:]\n",
    "hotel_df['Hotel Name'] = \"\"\n",
    "\n",
    "target_type = \"hotel\"\n",
    "radius = 5000\n",
    "\n",
    "# rewrite params dict\n",
    "\n",
    "params = {\n",
    "    \"keyword\" : \"hotel\",\n",
    "    \"types\": target_type,\n",
    "    \"radius\": radius,\n",
    "    \"key\": g_key\n",
    "}\n",
    "\n",
    "# Build URL using the Google Maps API\n",
    "base_url = \"https://maps.googleapis.com/maps/api/place/nearbysearch/json\"\n",
    "\n",
    "\n",
    "for index, row in hotel_df.iterrows():\n",
    "    city_name = row[\"city\"]\n",
    "\n",
    "    params[\"location\"] = f\"{row['lat']}, {row['lng']}\"\n",
    "    \n",
    "\n",
    "    # assemble url and make API request\n",
    "    print(f\"Retrieving Results for Index {index}: {city_name}.\")\n",
    "    response = requests.get(base_url, params=params).json()\n",
    "    \n",
    "    # extract results\n",
    "    results = response['results']\n",
    "    \n",
    "    try:\n",
    "        print(f\"Closest hotel in {city_name} is {results[0]['name']}.\")\n",
    "        hotel_df.loc[index, \"Hotel Name\"] = results[0]['name']\n",
    "    except (KeyError, IndexError):\n",
    "        print(\"Missing field/result... skipping.\")\n",
    "        print(\"------------\")\n",
    "    \n",
    "    # Wait 1 sec to make another api request to avoid SSL Error\n",
    "   #  time.sleep(1)\n",
    "\n",
    "# Print end of search once searching is completed\n",
    "print(\"-------End of Search-------\")"
   ]
  },
  {
   "cell_type": "code",
   "execution_count": null,
   "id": "dde7b76b-0901-477a-aa84-514c607e29c6",
   "metadata": {},
   "outputs": [],
   "source": [
    "hotel_df"
   ]
  },
  {
   "cell_type": "code",
   "execution_count": null,
   "id": "93619263-faac-4ea1-9998-7dc452762915",
   "metadata": {},
   "outputs": [],
   "source": [
    "# NOTE: Do not change any of the code in this cell\n",
    "\n",
    "# Using the template add the hotel marks to the heatmap\n",
    "info_box_template = \"\"\"\n",
    "<dl>\n",
    "<dt>Name</dt><dd>{Hotel Name}</dd>\n",
    "<dt>City</dt><dd>{city}</dd>\n",
    "<dt>Country</dt><dd>{Country}</dd>\n",
    "</dl>\n",
    "\"\"\"\n",
    "# Store the DataFrame Row\n",
    "# NOTE: be sure to update with your DataFrame name\n",
    "hotel_info = [info_box_template.format(**row) for index, row in hotel_df.iterrows()]\n",
    "locations = hotel_df[[\"lat\", \"lng\"]]"
   ]
  },
  {
   "cell_type": "code",
   "execution_count": null,
   "id": "7f731b57-5852-4ecf-aa5c-3464bd51ab8b",
   "metadata": {},
   "outputs": [],
   "source": [
    "# Add marker layer ontop of heat map\n",
    "\n",
    "markers = gmaps.marker_layer(locations)\n",
    "# Add the layer to the map\n",
    "fig.add_layer(markers)\n",
    "fig\n",
    "\n",
    "# Display figure"
   ]
  },
  {
   "cell_type": "code",
   "execution_count": null,
   "id": "fbd24d38-a197-4d24-8b56-f344e11dbba0",
   "metadata": {},
   "outputs": [],
   "source": []
  },
  {
   "cell_type": "code",
   "execution_count": null,
   "id": "825a5046-535c-4afb-ad99-fe77c3fb02f0",
   "metadata": {},
   "outputs": [],
   "source": []
  },
  {
   "cell_type": "code",
   "execution_count": null,
   "id": "fbb550be-9ada-4e2a-b6a5-c7c7eb274787",
   "metadata": {},
   "outputs": [],
   "source": [
    "http://history.openweathermap.org/data/2.5/history/city?lat={lat}&lon={lon}&type=hour&start={start}&end={end}&appid={API key}"
   ]
  }
 ],
 "metadata": {
  "kernelspec": {
   "display_name": "Python 3 (ipykernel)",
   "language": "python",
   "name": "python3"
  },
  "language_info": {
   "codemirror_mode": {
    "name": "ipython",
    "version": 3
   },
   "file_extension": ".py",
   "mimetype": "text/x-python",
   "name": "python",
   "nbconvert_exporter": "python",
   "pygments_lexer": "ipython3",
   "version": "3.9.7"
  }
 },
 "nbformat": 4,
 "nbformat_minor": 5
}
