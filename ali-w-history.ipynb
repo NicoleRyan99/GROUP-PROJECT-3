{
 "cells": [
  {
   "cell_type": "code",
   "execution_count": 1,
   "id": "57bed656-8c94-40a6-aba8-6a77b9dde3e5",
   "metadata": {},
   "outputs": [],
   "source": [
    "# Dependencies and Setup\n",
    "import matplotlib.pyplot as plt\n",
    "import pandas as pd\n",
    "import numpy as np\n",
    "import requests\n",
    "import time\n",
    "import gmaps\n",
    "import os\n",
    "\n",
    "\n",
    "import json\n",
    "import requests\n",
    "\n",
    "\n",
    "# Import API key\n",
    "from api_keys import g_key\n",
    "\n",
    "# Access maps with unique API key\n",
    "gmaps.configure(api_key=g_key)\n",
    "\n",
    "\n",
    "from scipy.stats import linregress\n",
    "#pip install citipy\n",
    "# Import API key   \n",
    "\n",
    "from api_keys import weather_api_key\n",
    "\n",
    "# Incorporated citipy to determine city based on latitude and longitude\n",
    "from citipy import citipy\n",
    "\n",
    "# Output File (CSV)\n",
    "#output_data_file = \"output_data/cities.csv\"\n",
    "\n"
   ]
  },
  {
   "cell_type": "code",
   "execution_count": 2,
   "id": "bdfb5f3a-14e0-4e9f-9ae2-78011227c37d",
   "metadata": {},
   "outputs": [
    {
     "data": {
      "text/plain": [
       "'834fbb8d9e7bdb623aa5081ad9b47cad'"
      ]
     },
     "execution_count": 2,
     "metadata": {},
     "output_type": "execute_result"
    }
   ],
   "source": [
    "weather_api_key"
   ]
  },
  {
   "cell_type": "code",
   "execution_count": 3,
   "id": "104c5992-c03d-42ff-9308-a3fdcb12c89b",
   "metadata": {},
   "outputs": [
    {
     "data": {
      "text/html": [
       "<div>\n",
       "<style scoped>\n",
       "    .dataframe tbody tr th:only-of-type {\n",
       "        vertical-align: middle;\n",
       "    }\n",
       "\n",
       "    .dataframe tbody tr th {\n",
       "        vertical-align: top;\n",
       "    }\n",
       "\n",
       "    .dataframe thead th {\n",
       "        text-align: right;\n",
       "    }\n",
       "</style>\n",
       "<table border=\"1\" class=\"dataframe\">\n",
       "  <thead>\n",
       "    <tr style=\"text-align: right;\">\n",
       "      <th></th>\n",
       "      <th>city</th>\n",
       "      <th>state_id</th>\n",
       "      <th>state_name</th>\n",
       "      <th>lat</th>\n",
       "      <th>lng</th>\n",
       "      <th>population</th>\n",
       "      <th>airport name</th>\n",
       "      <th>airport id</th>\n",
       "    </tr>\n",
       "  </thead>\n",
       "  <tbody>\n",
       "    <tr>\n",
       "      <th>0</th>\n",
       "      <td>Chicago</td>\n",
       "      <td>IL</td>\n",
       "      <td>Illinois</td>\n",
       "      <td>41.8375</td>\n",
       "      <td>-87.6866</td>\n",
       "      <td>8586888</td>\n",
       "      <td>Chicago Midway Airport</td>\n",
       "      <td>MDW</td>\n",
       "    </tr>\n",
       "    <tr>\n",
       "      <th>1</th>\n",
       "      <td>Chicago</td>\n",
       "      <td>IL</td>\n",
       "      <td>Illinois</td>\n",
       "      <td>41.8375</td>\n",
       "      <td>-87.6866</td>\n",
       "      <td>8586888</td>\n",
       "      <td>Chicago O'hare Airport</td>\n",
       "      <td>ORD</td>\n",
       "    </tr>\n",
       "    <tr>\n",
       "      <th>2</th>\n",
       "      <td>Las Vegas</td>\n",
       "      <td>NV</td>\n",
       "      <td>Nevada</td>\n",
       "      <td>36.2333</td>\n",
       "      <td>-115.2654</td>\n",
       "      <td>2165405</td>\n",
       "      <td>Las Vegas Airport</td>\n",
       "      <td>HND</td>\n",
       "    </tr>\n",
       "    <tr>\n",
       "      <th>3</th>\n",
       "      <td>Los Angeles</td>\n",
       "      <td>CA</td>\n",
       "      <td>California</td>\n",
       "      <td>34.1141</td>\n",
       "      <td>-118.4068</td>\n",
       "      <td>12531334</td>\n",
       "      <td>Los Angeles Airport</td>\n",
       "      <td>LAX</td>\n",
       "    </tr>\n",
       "    <tr>\n",
       "      <th>4</th>\n",
       "      <td>Miami</td>\n",
       "      <td>FL</td>\n",
       "      <td>Florida</td>\n",
       "      <td>25.7840</td>\n",
       "      <td>-80.2101</td>\n",
       "      <td>6076316</td>\n",
       "      <td>Miami Airport</td>\n",
       "      <td>MIA</td>\n",
       "    </tr>\n",
       "    <tr>\n",
       "      <th>5</th>\n",
       "      <td>New York</td>\n",
       "      <td>NY</td>\n",
       "      <td>New York</td>\n",
       "      <td>40.6943</td>\n",
       "      <td>-73.9249</td>\n",
       "      <td>18680025</td>\n",
       "      <td>John F. Kenned Airport</td>\n",
       "      <td>JFK</td>\n",
       "    </tr>\n",
       "    <tr>\n",
       "      <th>6</th>\n",
       "      <td>New York</td>\n",
       "      <td>NY</td>\n",
       "      <td>New York</td>\n",
       "      <td>40.6943</td>\n",
       "      <td>-73.9249</td>\n",
       "      <td>18680025</td>\n",
       "      <td>La Guardia Airport</td>\n",
       "      <td>LGA</td>\n",
       "    </tr>\n",
       "    <tr>\n",
       "      <th>7</th>\n",
       "      <td>Orlando</td>\n",
       "      <td>FL</td>\n",
       "      <td>Florida</td>\n",
       "      <td>28.4773</td>\n",
       "      <td>-81.3370</td>\n",
       "      <td>1792047</td>\n",
       "      <td>Orlando  Airport</td>\n",
       "      <td>MCO</td>\n",
       "    </tr>\n",
       "    <tr>\n",
       "      <th>8</th>\n",
       "      <td>San Francisco</td>\n",
       "      <td>CA</td>\n",
       "      <td>California</td>\n",
       "      <td>37.7558</td>\n",
       "      <td>-122.4449</td>\n",
       "      <td>3557982</td>\n",
       "      <td>San Francisco Airport</td>\n",
       "      <td>SFO</td>\n",
       "    </tr>\n",
       "    <tr>\n",
       "      <th>9</th>\n",
       "      <td>Seattle</td>\n",
       "      <td>WA</td>\n",
       "      <td>Washington</td>\n",
       "      <td>47.6211</td>\n",
       "      <td>-122.3244</td>\n",
       "      <td>3530752</td>\n",
       "      <td>Seattle Airport</td>\n",
       "      <td>SEA</td>\n",
       "    </tr>\n",
       "  </tbody>\n",
       "</table>\n",
       "</div>"
      ],
      "text/plain": [
       "            city state_id  state_name      lat       lng  population  \\\n",
       "0        Chicago       IL    Illinois  41.8375  -87.6866     8586888   \n",
       "1        Chicago       IL    Illinois  41.8375  -87.6866     8586888   \n",
       "2      Las Vegas       NV      Nevada  36.2333 -115.2654     2165405   \n",
       "3    Los Angeles       CA  California  34.1141 -118.4068    12531334   \n",
       "4          Miami       FL     Florida  25.7840  -80.2101     6076316   \n",
       "5       New York       NY    New York  40.6943  -73.9249    18680025   \n",
       "6       New York       NY    New York  40.6943  -73.9249    18680025   \n",
       "7        Orlando       FL     Florida  28.4773  -81.3370     1792047   \n",
       "8  San Francisco       CA  California  37.7558 -122.4449     3557982   \n",
       "9        Seattle       WA  Washington  47.6211 -122.3244     3530752   \n",
       "\n",
       "             airport name airport id  \n",
       "0  Chicago Midway Airport        MDW  \n",
       "1  Chicago O'hare Airport        ORD  \n",
       "2       Las Vegas Airport        HND  \n",
       "3     Los Angeles Airport        LAX  \n",
       "4           Miami Airport        MIA  \n",
       "5  John F. Kenned Airport        JFK  \n",
       "6      La Guardia Airport        LGA  \n",
       "7        Orlando  Airport        MCO  \n",
       "8   San Francisco Airport       SFO   \n",
       "9         Seattle Airport        SEA  "
      ]
     },
     "execution_count": 3,
     "metadata": {},
     "output_type": "execute_result"
    }
   ],
   "source": [
    "cityinfo = pd.read_csv(\"C:/Users/alisa/GIT/PROJECT-3/data/uscities-airport-lat-lng.csv\")\n",
    "cityinfo.head(10)"
   ]
  },
  {
   "cell_type": "code",
   "execution_count": 4,
   "id": "73179794-ac51-46ef-8647-2cedb9246732",
   "metadata": {},
   "outputs": [],
   "source": [
    "cities = cityinfo['city']\n"
   ]
  },
  {
   "cell_type": "code",
   "execution_count": 5,
   "id": "6a4b8eaf-1de4-4f89-a6b5-7510895173da",
   "metadata": {},
   "outputs": [],
   "source": [
    "lat = str(cityinfo['lat'])"
   ]
  },
  {
   "cell_type": "code",
   "execution_count": 6,
   "id": "3d3e5a15-54f8-4f8c-a75a-d5db650770d1",
   "metadata": {},
   "outputs": [
    {
     "data": {
      "text/plain": [
       "'0     41.8375\\n1     41.8375\\n2     36.2333\\n3     34.1141\\n4     25.7840\\n5     40.6943\\n6     40.6943\\n7     28.4773\\n8     37.7558\\n9     47.6211\\n10    38.9047\\n11    42.3188\\nName: lat, dtype: float64'"
      ]
     },
     "execution_count": 6,
     "metadata": {},
     "output_type": "execute_result"
    }
   ],
   "source": [
    "lat\n"
   ]
  },
  {
   "cell_type": "code",
   "execution_count": 7,
   "id": "7dfa866a-c7cc-4009-b3a0-7faf342a574f",
   "metadata": {},
   "outputs": [],
   "source": [
    "lng = str(cityinfo['lng'])\n"
   ]
  },
  {
   "cell_type": "code",
   "execution_count": 8,
   "id": "4c88c5d7-207e-40f9-92fc-0276cc3c33b7",
   "metadata": {},
   "outputs": [
    {
     "data": {
      "text/plain": [
       "'0     -87.6866\\n1     -87.6866\\n2    -115.2654\\n3    -118.4068\\n4     -80.2101\\n5     -73.9249\\n6     -73.9249\\n7     -81.3370\\n8    -122.4449\\n9    -122.3244\\n10    -77.0163\\n11    -71.0852\\nName: lng, dtype: float64'"
      ]
     },
     "execution_count": 8,
     "metadata": {},
     "output_type": "execute_result"
    }
   ],
   "source": [
    "lng"
   ]
  },
  {
   "cell_type": "code",
   "execution_count": 9,
   "id": "c688833a-04e0-4a41-b5cf-4724cba110ec",
   "metadata": {},
   "outputs": [],
   "source": [
    "population = cityinfo['population']"
   ]
  },
  {
   "cell_type": "code",
   "execution_count": 10,
   "id": "e0cf9a74-ed02-4132-ba15-24fd260365ab",
   "metadata": {},
   "outputs": [
    {
     "data": {
      "text/plain": [
       "0           Chicago\n",
       "1           Chicago\n",
       "2         Las Vegas\n",
       "3       Los Angeles\n",
       "4             Miami\n",
       "5          New York\n",
       "6          New York\n",
       "7           Orlando\n",
       "8     San Francisco\n",
       "9           Seattle\n",
       "10       Washington\n",
       "11           Boston\n",
       "Name: city, dtype: object"
      ]
     },
     "execution_count": 10,
     "metadata": {},
     "output_type": "execute_result"
    }
   ],
   "source": [
    "cities"
   ]
  },
  {
   "cell_type": "code",
   "execution_count": 11,
   "id": "870c6478-6a6f-48a1-b21e-f37629ee73c4",
   "metadata": {},
   "outputs": [
    {
     "data": {
      "text/plain": [
       "0      8586888\n",
       "1      8586888\n",
       "2      2165405\n",
       "3     12531334\n",
       "4      6076316\n",
       "5     18680025\n",
       "6     18680025\n",
       "7      1792047\n",
       "8      3557982\n",
       "9      3530752\n",
       "10     5066973\n",
       "11     4465966\n",
       "Name: population, dtype: int64"
      ]
     },
     "execution_count": 11,
     "metadata": {},
     "output_type": "execute_result"
    }
   ],
   "source": [
    "population"
   ]
  },
  {
   "cell_type": "code",
   "execution_count": 12,
   "id": "839f766b-df93-4d59-af2c-e2db642428a2",
   "metadata": {},
   "outputs": [
    {
     "data": {
      "text/plain": [
       "12"
      ]
     },
     "execution_count": 12,
     "metadata": {},
     "output_type": "execute_result"
    }
   ],
   "source": [
    "len(cities)"
   ]
  },
  {
   "cell_type": "code",
   "execution_count": 13,
   "id": "0571c0f7-94a0-492d-adaa-525f13ead441",
   "metadata": {},
   "outputs": [
    {
     "name": "stdout",
     "output_type": "stream",
     "text": [
      "{\n",
      "    \"cod\" = 401. \n",
      "    \"message\" = \"Invalid API key. Please see http://openweathermap.org/faq#error401 for more info.\"\n",
      "}\n"
     ]
    }
   ],
   "source": [
    "#  https://api.openweathermap.org/data/2.5/weather?q={city name}&appid={API key}\n",
    "units = \"imperial\"\n",
    "start = \"2003-01-01\"\n",
    "end = \"2022-07-16\"\n",
    "#url = \"http://api.openweathermap.org/data/2.5/weather?\"\n",
    "#url = \"https://api.openweathermap.org/data/2.5/weather?\"\n",
    "#url = \"https://history.openweathermap.org/data/2.5/history/city?\"\n",
    "\n",
    "url = \"http://history.openweathermap.org/data/2.5/history/city?\"\n",
    "query_url = url + \"appid=\" + weather_api_key + \"&units=\" + units +  \"lat=\" + \"41.83\"+\"&lon=\"+\"-87.68\"\n",
    "\n",
    "#query_url = url + \"lat=\" + \"41.83\"+\"&lon=\"+\"-87.68\"+\"&appid=\"+ weather_api_key\n",
    "#http://history.openweathermap.org/data/2.5/history/city?lat={lat}&lon={lon}&type=hour&start={start}&end={end}&appid={API key}\n",
    "\n",
    "#for city in cities:\n",
    "# Build query URL\n",
    "#query_url = url + \"appid=\" + weather_api_key + \"&units=\" + units +  \"&q=\" + cities[0]\n",
    "\n",
    "\n",
    "#http://history.openweathermap.org/data/2.5/history/city?lat=41.85&lon=-87.65&appid={API key}\n",
    "\n",
    "#query_url = url + \"lat=\" + \"41.83\"+\"&lon=\"+\"-87.68\"+\"&type=hour&start=\"+start+\"&end=\"+end+\"&appid=\"+ weather_api_key\n",
    "#query_url = url + \"lat=\" + \"41.83\" + \"&lon=\" + \"-87.68\" + \"&type=hour&start=\" + start + \"&end=\" + end + \"&appid=\" + weather_api_key \n",
    "\n",
    "#query_url\n",
    "\n",
    "# Get weather data\n",
    "weather_response = requests.get(query_url)\n",
    "weather_json = weather_response.json()\n",
    "\n",
    "# Get the temperature from the response\n",
    "#print(f\"The weather API responded with: {weather_json}.\")\n",
    "\n",
    "y = json.dumps(weather_json, indent=4, separators=(\". \", \" = \"))\n",
    "print(y)"
   ]
  },
  {
   "cell_type": "code",
   "execution_count": 16,
   "id": "3eb040c4-6016-4956-ab4c-a0ecb89c2431",
   "metadata": {},
   "outputs": [
    {
     "data": {
      "text/plain": [
       "'http://history.openweathermap.org/data/2.5/history/city?appid=834fbb8d9e7bdb623aa5081ad9b47cad&units=imperiallat=41.83&lon=-87.68'"
      ]
     },
     "execution_count": 16,
     "metadata": {},
     "output_type": "execute_result"
    }
   ],
   "source": [
    "query_url"
   ]
  },
  {
   "cell_type": "code",
   "execution_count": 15,
   "id": "3f0c04ad-e9af-4827-a899-17a7a348f5a4",
   "metadata": {},
   "outputs": [
    {
     "ename": "SyntaxError",
     "evalue": "invalid syntax (Temp/ipykernel_22972/3937564059.py, line 7)",
     "output_type": "error",
     "traceback": [
      "\u001b[1;36m  File \u001b[1;32m\"C:\\Users\\alisa\\AppData\\Local\\Temp/ipykernel_22972/3937564059.py\"\u001b[1;36m, line \u001b[1;32m7\u001b[0m\n\u001b[1;33m    query_url = url + \"lat=\" + lat[] + \"&lon=\" + lng[] + \"&type=hour&start=\" + start + \"&end=\" + end + \"&appid=\" + weather_api_key\u001b[0m\n\u001b[1;37m                                   ^\u001b[0m\n\u001b[1;31mSyntaxError\u001b[0m\u001b[1;31m:\u001b[0m invalid syntax\n"
     ]
    }
   ],
   "source": [
    "url = \"https://history.openweathermap.org/data/2.5/history/city?\"\n",
    "units = \"imperial\"\n",
    "\n",
    "#for city in cities:\n",
    "# Build query URL\n",
    "#query_url = url + \"appid=\" + weather_api_key + \"&units=\" + units +  \"&q=\" \n",
    "query_url = url + \"lat=\" + lat[] + \"&lon=\" + lng[] + \"&type=hour&start=\" + start + \"&end=\" + end + \"&appid=\" + weather_api_key \n",
    "\n",
    "\n",
    "city_name = []\n",
    "lat = []\n",
    "lng = []\n",
    "max_temp = []\n",
    "humidity = []\n",
    "cloudiness = []\n",
    "wind_speed = []\n",
    "country = []\n",
    "date = []\n",
    "\n",
    "#set a counter\n",
    "index_counter = 0\n",
    "set_counter = 1\n",
    "\n",
    "\n",
    "print(\"start Data Retrieval\")\n",
    "print(\"-\"*10)\n",
    "\n",
    "for index, city in enumerate (cities):\n",
    "    \n",
    "        response = requests.get(query_url + city).json()\n",
    "        try:\n",
    "            city_name.append(response['name'])\n",
    "            lat.append(response['coord']['lat'])\n",
    "            lng.append(response['coord']['lon'])\n",
    "            max_temp.append(response['main']['temp_max'])\n",
    "            humidity.append(response['main']['humidity'])\n",
    "            cloudiness.append(response['clouds']['all'])\n",
    "            wind_speed.append(response['wind']['speed'])\n",
    "            country.append(response['sys']['country'])\n",
    "            date.append(response['dt'])\n",
    "           \n",
    "            \n",
    "            if index_counter > 49:\n",
    "                index_counter = 0\n",
    "                set_counter = set_counter + 1\n",
    "    \n",
    "            else:\n",
    "                index_counter = index_counter + 1\n",
    "            \n",
    "                print(f\"Processing Record {index_counter} of Set {set_counter} : {city}\") \n",
    "  \n",
    "        except(KeyError, IndexError):\n",
    "            print(\"City not found...\")\n",
    "\n",
    "print(\"-\"*10)\n",
    "print(\"Data Retrieval Complete\")\n",
    "print(\"-\"*10)"
   ]
  },
  {
   "cell_type": "code",
   "execution_count": null,
   "id": "52a0d185-936f-43e8-8baa-2576c1569136",
   "metadata": {},
   "outputs": [],
   "source": [
    "city_weather_1 = pd.DataFrame({'city': city_name,\n",
    "                            \n",
    "                             'Max Temp': max_temp,\n",
    "                             'Humidity': humidity, \n",
    "                             'Cloudiness': cloudiness,\n",
    "                             'Wind Speed': wind_speed,\n",
    "                             'Country': country,\n",
    "                             'Date': date\n",
    "                             \n",
    "                            })\n",
    "city_weather_1.head()"
   ]
  },
  {
   "cell_type": "code",
   "execution_count": null,
   "id": "758e2bb4-3bb3-4a18-94f1-2662cd7db187",
   "metadata": {},
   "outputs": [],
   "source": [
    "city_weather_1['Date'] = pd.to_datetime(city_weather_1['Date'], unit='s')\n",
    "city_weather_1['Date'] = city_weather_1['Date'].dt.strftime('%Y-%m-%d')"
   ]
  },
  {
   "cell_type": "code",
   "execution_count": null,
   "id": "63e6124c-3a5f-45ee-b66d-305236441d7e",
   "metadata": {},
   "outputs": [],
   "source": [
    "city_weather_1"
   ]
  },
  {
   "cell_type": "code",
   "execution_count": null,
   "id": "d7b9093b-bb58-434f-b2eb-18a8942fc1bb",
   "metadata": {},
   "outputs": [],
   "source": [
    "\n",
    "city_weather_1.drop_duplicates(subset=['city'])"
   ]
  },
  {
   "cell_type": "code",
   "execution_count": null,
   "id": "5f491462-a565-4440-a96e-3d5b69cf32a3",
   "metadata": {},
   "outputs": [],
   "source": [
    "city_weather_1.to_csv(\"data/cities.csv\")"
   ]
  },
  {
   "cell_type": "code",
   "execution_count": null,
   "id": "004cff91-4e4b-408e-8777-a450b38ae465",
   "metadata": {},
   "outputs": [],
   "source": [
    "\n",
    "city_weather = pd.merge(cityinfo, city_weather_1, how=\"left\", on=[\"city\", \"city\"])"
   ]
  },
  {
   "cell_type": "code",
   "execution_count": null,
   "id": "53407976-92f4-4cca-a51c-ef8a18749b68",
   "metadata": {},
   "outputs": [],
   "source": [
    "city_weather"
   ]
  },
  {
   "cell_type": "code",
   "execution_count": null,
   "id": "0975e7b8-dcd7-473b-91ff-f686f497c92f",
   "metadata": {},
   "outputs": [],
   "source": [
    "city_weather = city_weather.drop_duplicates(subset=['city'])"
   ]
  },
  {
   "cell_type": "code",
   "execution_count": null,
   "id": "5820e45c-e549-4e55-b47e-345b022497e0",
   "metadata": {},
   "outputs": [],
   "source": [
    "city_weather\n"
   ]
  },
  {
   "cell_type": "code",
   "execution_count": null,
   "id": "737f8269-2d13-4be8-a6a8-ec30e2786e5b",
   "metadata": {},
   "outputs": [],
   "source": [
    "city_weather.to_csv(\"Clean_data/city_weather.csv\")"
   ]
  },
  {
   "cell_type": "code",
   "execution_count": null,
   "id": "82cf52c7-62c2-49a2-b9c2-cbbd23f4e7bc",
   "metadata": {},
   "outputs": [],
   "source": [
    "gmaps.configure(api_key=g_key)\n",
    "locations = city_weather[[\"lat\", \"lng\"]]\n",
    "humidity = city_weather[\"Humidity\"]\n",
    "locations"
   ]
  },
  {
   "cell_type": "code",
   "execution_count": null,
   "id": "559a3d84-e244-4f73-9c5b-8f1830f8b71b",
   "metadata": {},
   "outputs": [],
   "source": [
    "locations.dropna()"
   ]
  },
  {
   "cell_type": "code",
   "execution_count": null,
   "id": "85ca07a5-831e-470b-9410-5184a55e75ab",
   "metadata": {},
   "outputs": [],
   "source": [
    "humidity"
   ]
  },
  {
   "cell_type": "code",
   "execution_count": null,
   "id": "88caa664-023a-4f2b-9aa6-63e84122ea75",
   "metadata": {},
   "outputs": [],
   "source": [
    "fit_weather_data = city_weather.loc[(city_weather['Wind Speed']<= 20) & (city_weather['Cloudiness'] == 0) & \n",
    "                                    (city_weather['Max Temp']<=90) & (city_weather['Max Temp'] >= 70)]\n",
    "fit_weather_data.dropna()\n",
    "fit_weather_data.head()"
   ]
  },
  {
   "cell_type": "code",
   "execution_count": null,
   "id": "b9b81d9d-535f-4c3d-8182-fd771ef7d715",
   "metadata": {},
   "outputs": [],
   "source": [
    "# Plot Heatmap\n",
    "fig = gmaps.figure(center=(46.0, -5.0), zoom_level=2)\n",
    "max_intensity = np.max(humidity)\n",
    "\n",
    "# Create heat layer\n",
    "heat_layer = gmaps.heatmap_layer(locations, weights = humidity, dissipating=False, max_intensity=100, point_radius=3)\n",
    "\n",
    "# Add layer\n",
    "fig.add_layer(heat_layer)\n",
    "\n",
    "# Display figure\n",
    "fig"
   ]
  },
  {
   "cell_type": "code",
   "execution_count": null,
   "id": "fa811ca3-3cdc-4d16-bba5-3fa83b8b776f",
   "metadata": {},
   "outputs": [],
   "source": [
    "hotel_df = fit_weather_data.loc[:,:]\n",
    "hotel_df['Hotel Name'] = \"\"\n",
    "\n",
    "target_type = \"hotel\"\n",
    "radius = 5000\n",
    "\n",
    "# rewrite params dict\n",
    "\n",
    "params = {\n",
    "    \"keyword\" : \"hotel\",\n",
    "    \"types\": target_type,\n",
    "    \"radius\": radius,\n",
    "    \"key\": g_key\n",
    "}\n",
    "\n",
    "# Build URL using the Google Maps API\n",
    "base_url = \"https://maps.googleapis.com/maps/api/place/nearbysearch/json\"\n",
    "\n",
    "\n",
    "for index, row in hotel_df.iterrows():\n",
    "    city_name = row[\"city\"]\n",
    "\n",
    "    params[\"location\"] = f\"{row['lat']}, {row['lng']}\"\n",
    "    \n",
    "\n",
    "    # assemble url and make API request\n",
    "    print(f\"Retrieving Results for Index {index}: {city_name}.\")\n",
    "    response = requests.get(base_url, params=params).json()\n",
    "    \n",
    "    # extract results\n",
    "    results = response['results']\n",
    "    \n",
    "    try:\n",
    "        print(f\"Closest hotel in {city_name} is {results[0]['name']}.\")\n",
    "        hotel_df.loc[index, \"Hotel Name\"] = results[0]['name']\n",
    "    except (KeyError, IndexError):\n",
    "        print(\"Missing field/result... skipping.\")\n",
    "        print(\"------------\")\n",
    "    \n",
    "    # Wait 1 sec to make another api request to avoid SSL Error\n",
    "   #  time.sleep(1)\n",
    "\n",
    "# Print end of search once searching is completed\n",
    "print(\"-------End of Search-------\")"
   ]
  },
  {
   "cell_type": "code",
   "execution_count": null,
   "id": "dde7b76b-0901-477a-aa84-514c607e29c6",
   "metadata": {},
   "outputs": [],
   "source": [
    "hotel_df"
   ]
  },
  {
   "cell_type": "code",
   "execution_count": null,
   "id": "93619263-faac-4ea1-9998-7dc452762915",
   "metadata": {},
   "outputs": [],
   "source": [
    "# NOTE: Do not change any of the code in this cell\n",
    "\n",
    "# Using the template add the hotel marks to the heatmap\n",
    "info_box_template = \"\"\"\n",
    "<dl>\n",
    "<dt>Name</dt><dd>{Hotel Name}</dd>\n",
    "<dt>City</dt><dd>{city}</dd>\n",
    "<dt>Country</dt><dd>{Country}</dd>\n",
    "</dl>\n",
    "\"\"\"\n",
    "# Store the DataFrame Row\n",
    "# NOTE: be sure to update with your DataFrame name\n",
    "hotel_info = [info_box_template.format(**row) for index, row in hotel_df.iterrows()]\n",
    "locations = hotel_df[[\"lat\", \"lng\"]]"
   ]
  },
  {
   "cell_type": "code",
   "execution_count": null,
   "id": "7f731b57-5852-4ecf-aa5c-3464bd51ab8b",
   "metadata": {},
   "outputs": [],
   "source": [
    "# Add marker layer ontop of heat map\n",
    "\n",
    "markers = gmaps.marker_layer(locations)\n",
    "# Add the layer to the map\n",
    "fig.add_layer(markers)\n",
    "fig\n",
    "\n",
    "# Display figure"
   ]
  },
  {
   "cell_type": "code",
   "execution_count": null,
   "id": "fbd24d38-a197-4d24-8b56-f344e11dbba0",
   "metadata": {},
   "outputs": [],
   "source": []
  },
  {
   "cell_type": "code",
   "execution_count": null,
   "id": "825a5046-535c-4afb-ad99-fe77c3fb02f0",
   "metadata": {},
   "outputs": [],
   "source": []
  },
  {
   "cell_type": "code",
   "execution_count": null,
   "id": "fbb550be-9ada-4e2a-b6a5-c7c7eb274787",
   "metadata": {},
   "outputs": [],
   "source": []
  }
 ],
 "metadata": {
  "kernelspec": {
   "display_name": "Python 3 (ipykernel)",
   "language": "python",
   "name": "python3"
  },
  "language_info": {
   "codemirror_mode": {
    "name": "ipython",
    "version": 3
   },
   "file_extension": ".py",
   "mimetype": "text/x-python",
   "name": "python",
   "nbconvert_exporter": "python",
   "pygments_lexer": "ipython3",
   "version": "3.9.7"
  }
 },
 "nbformat": 4,
 "nbformat_minor": 5
}
